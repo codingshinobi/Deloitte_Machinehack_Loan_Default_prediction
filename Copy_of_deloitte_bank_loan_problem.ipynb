{
  "nbformat": 4,
  "nbformat_minor": 0,
  "metadata": {
    "colab": {
      "name": "Copy of deloitte_bank_loan_problem.ipynb",
      "provenance": [],
      "collapsed_sections": [
        "CvglisFEjPp9"
      ],
      "authorship_tag": "ABX9TyPvKDVisllzZTZ2A+Cq69Hs",
      "include_colab_link": true
    },
    "kernelspec": {
      "name": "python3",
      "display_name": "Python 3"
    },
    "language_info": {
      "name": "python"
    }
  },
  "cells": [
    {
      "cell_type": "markdown",
      "metadata": {
        "id": "view-in-github",
        "colab_type": "text"
      },
      "source": [
        "<a href=\"https://colab.research.google.com/github/codingshinobi/Deloitte_Machinehack_Loan_Default_prediction/blob/main/Copy_of_deloitte_bank_loan_problem.ipynb\" target=\"_parent\"><img src=\"https://colab.research.google.com/assets/colab-badge.svg\" alt=\"Open In Colab\"/></a>"
      ]
    },
    {
      "cell_type": "markdown",
      "metadata": {
        "id": "78m-WD_vJPFa"
      },
      "source": [
        "##Basics\n",
        "\n"
      ]
    },
    {
      "cell_type": "code",
      "metadata": {
        "id": "7PJBdViWg6HQ"
      },
      "source": [
        "#pip install lightgbm"
      ],
      "execution_count": null,
      "outputs": []
    },
    {
      "cell_type": "code",
      "metadata": {
        "id": "O1B-EcmdEERF"
      },
      "source": [
        "import pandas as pd\n",
        "import numpy as np\n",
        "import seaborn as sns\n",
        "import matplotlib.pyplot as plt\n",
        "from sklearn.metrics import  classification_report, confusion_matrix, make_scorer\n",
        "from sklearn.tree import DecisionTreeClassifier\n",
        "from catboost import CatBoostClassifier, Pool\n",
        "from lightgbm import LGBMClassifier\n",
        "from sklearn.preprocessing import StandardScaler, LabelEncoder, LabelBinarizer\n",
        "from sklearn.model_selection import train_test_split, cross_val_score"
      ],
      "execution_count": null,
      "outputs": []
    },
    {
      "cell_type": "code",
      "metadata": {
        "id": "-__c1z5UF3TU"
      },
      "source": [
        "#training dataset\n",
        "train = pd.read_csv(r\"D:\\DATASETS\\DELOITTE\\Participants_Data_PLD\\train.csv\")"
      ],
      "execution_count": null,
      "outputs": []
    },
    {
      "cell_type": "code",
      "metadata": {
        "colab": {
          "base_uri": "https://localhost:8080/"
        },
        "id": "cQ8huegOGa7l",
        "outputId": "2c249050-f37e-42b3-db50-687308a6d3f3"
      },
      "source": [
        "train.shape"
      ],
      "execution_count": null,
      "outputs": [
        {
          "output_type": "execute_result",
          "data": {
            "text/plain": [
              "(67463, 35)"
            ]
          },
          "metadata": {},
          "execution_count": 121
        }
      ]
    },
    {
      "cell_type": "code",
      "metadata": {
        "id": "KeXRPEkcGllI"
      },
      "source": [
        "# test dataset\n",
        "test = pd.read_csv(r\"D:\\DATASETS\\DELOITTE\\Participants_Data_PLD\\test.csv\")"
      ],
      "execution_count": null,
      "outputs": []
    },
    {
      "cell_type": "code",
      "metadata": {
        "colab": {
          "base_uri": "https://localhost:8080/"
        },
        "id": "67vWVqUMGugs",
        "outputId": "057e96c9-5f52-4de0-e576-b8a1ccea8bd5"
      },
      "source": [
        "test.shape"
      ],
      "execution_count": null,
      "outputs": [
        {
          "output_type": "execute_result",
          "data": {
            "text/plain": [
              "(28913, 35)"
            ]
          },
          "metadata": {},
          "execution_count": 123
        }
      ]
    },
    {
      "cell_type": "code",
      "metadata": {
        "id": "nsGetVlqMazn",
        "colab": {
          "base_uri": "https://localhost:8080/",
          "height": 307
        },
        "outputId": "667a72f9-8a2e-43f6-a076-77de15e4635d"
      },
      "source": [
        "train.head()"
      ],
      "execution_count": null,
      "outputs": [
        {
          "output_type": "execute_result",
          "data": {
            "text/plain": [
              "         ID  Loan Amount  Funded Amount  Funded Amount Investor  Term  \\\n",
              "0  65087372        10000          32236             12329.36286    59   \n",
              "1   1450153         3609          11940             12191.99692    59   \n",
              "2   1969101        28276           9311             21603.22455    59   \n",
              "3   6651430        11170           6954             17877.15585    59   \n",
              "4  14354669        16890          13226             13539.92667    59   \n",
              "\n",
              "  Batch Enrolled  Interest Rate Grade Sub Grade Employment Duration  ...  \\\n",
              "0     BAT2522922      11.135007     B        C4            MORTGAGE  ...   \n",
              "1     BAT1586599      12.237563     C        D3                RENT  ...   \n",
              "2     BAT2136391      12.545884     F        D4            MORTGAGE  ...   \n",
              "3     BAT2428731      16.731201     C        C3            MORTGAGE  ...   \n",
              "4     BAT5341619      15.008300     C        D4            MORTGAGE  ...   \n",
              "\n",
              "    Recoveries Collection Recovery Fee Collection 12 months Medical  \\\n",
              "0     2.498291                0.793724                            0   \n",
              "1     2.377215                0.974821                            0   \n",
              "2     4.316277                1.020075                            0   \n",
              "3     0.107020                0.749971                            0   \n",
              "4  1294.818751                0.368953                            0   \n",
              "\n",
              "  Application Type  Last week Pay  Accounts Delinquent  \\\n",
              "0       INDIVIDUAL             49                    0   \n",
              "1       INDIVIDUAL            109                    0   \n",
              "2       INDIVIDUAL             66                    0   \n",
              "3       INDIVIDUAL             39                    0   \n",
              "4       INDIVIDUAL             18                    0   \n",
              "\n",
              "   Total Collection Amount  Total Current Balance  \\\n",
              "0                       31                 311301   \n",
              "1                       53                 182610   \n",
              "2                       34                  89801   \n",
              "3                       40                   9189   \n",
              "4                      430                 126029   \n",
              "\n",
              "   Total Revolving Credit Limit  Loan Status  \n",
              "0                          6619            0  \n",
              "1                         20885            0  \n",
              "2                         26155            0  \n",
              "3                         60214            0  \n",
              "4                         22579            0  \n",
              "\n",
              "[5 rows x 35 columns]"
            ],
            "text/html": [
              "<div>\n",
              "<style scoped>\n",
              "    .dataframe tbody tr th:only-of-type {\n",
              "        vertical-align: middle;\n",
              "    }\n",
              "\n",
              "    .dataframe tbody tr th {\n",
              "        vertical-align: top;\n",
              "    }\n",
              "\n",
              "    .dataframe thead th {\n",
              "        text-align: right;\n",
              "    }\n",
              "</style>\n",
              "<table border=\"1\" class=\"dataframe\">\n",
              "  <thead>\n",
              "    <tr style=\"text-align: right;\">\n",
              "      <th></th>\n",
              "      <th>ID</th>\n",
              "      <th>Loan Amount</th>\n",
              "      <th>Funded Amount</th>\n",
              "      <th>Funded Amount Investor</th>\n",
              "      <th>Term</th>\n",
              "      <th>Batch Enrolled</th>\n",
              "      <th>Interest Rate</th>\n",
              "      <th>Grade</th>\n",
              "      <th>Sub Grade</th>\n",
              "      <th>Employment Duration</th>\n",
              "      <th>...</th>\n",
              "      <th>Recoveries</th>\n",
              "      <th>Collection Recovery Fee</th>\n",
              "      <th>Collection 12 months Medical</th>\n",
              "      <th>Application Type</th>\n",
              "      <th>Last week Pay</th>\n",
              "      <th>Accounts Delinquent</th>\n",
              "      <th>Total Collection Amount</th>\n",
              "      <th>Total Current Balance</th>\n",
              "      <th>Total Revolving Credit Limit</th>\n",
              "      <th>Loan Status</th>\n",
              "    </tr>\n",
              "  </thead>\n",
              "  <tbody>\n",
              "    <tr>\n",
              "      <th>0</th>\n",
              "      <td>65087372</td>\n",
              "      <td>10000</td>\n",
              "      <td>32236</td>\n",
              "      <td>12329.36286</td>\n",
              "      <td>59</td>\n",
              "      <td>BAT2522922</td>\n",
              "      <td>11.135007</td>\n",
              "      <td>B</td>\n",
              "      <td>C4</td>\n",
              "      <td>MORTGAGE</td>\n",
              "      <td>...</td>\n",
              "      <td>2.498291</td>\n",
              "      <td>0.793724</td>\n",
              "      <td>0</td>\n",
              "      <td>INDIVIDUAL</td>\n",
              "      <td>49</td>\n",
              "      <td>0</td>\n",
              "      <td>31</td>\n",
              "      <td>311301</td>\n",
              "      <td>6619</td>\n",
              "      <td>0</td>\n",
              "    </tr>\n",
              "    <tr>\n",
              "      <th>1</th>\n",
              "      <td>1450153</td>\n",
              "      <td>3609</td>\n",
              "      <td>11940</td>\n",
              "      <td>12191.99692</td>\n",
              "      <td>59</td>\n",
              "      <td>BAT1586599</td>\n",
              "      <td>12.237563</td>\n",
              "      <td>C</td>\n",
              "      <td>D3</td>\n",
              "      <td>RENT</td>\n",
              "      <td>...</td>\n",
              "      <td>2.377215</td>\n",
              "      <td>0.974821</td>\n",
              "      <td>0</td>\n",
              "      <td>INDIVIDUAL</td>\n",
              "      <td>109</td>\n",
              "      <td>0</td>\n",
              "      <td>53</td>\n",
              "      <td>182610</td>\n",
              "      <td>20885</td>\n",
              "      <td>0</td>\n",
              "    </tr>\n",
              "    <tr>\n",
              "      <th>2</th>\n",
              "      <td>1969101</td>\n",
              "      <td>28276</td>\n",
              "      <td>9311</td>\n",
              "      <td>21603.22455</td>\n",
              "      <td>59</td>\n",
              "      <td>BAT2136391</td>\n",
              "      <td>12.545884</td>\n",
              "      <td>F</td>\n",
              "      <td>D4</td>\n",
              "      <td>MORTGAGE</td>\n",
              "      <td>...</td>\n",
              "      <td>4.316277</td>\n",
              "      <td>1.020075</td>\n",
              "      <td>0</td>\n",
              "      <td>INDIVIDUAL</td>\n",
              "      <td>66</td>\n",
              "      <td>0</td>\n",
              "      <td>34</td>\n",
              "      <td>89801</td>\n",
              "      <td>26155</td>\n",
              "      <td>0</td>\n",
              "    </tr>\n",
              "    <tr>\n",
              "      <th>3</th>\n",
              "      <td>6651430</td>\n",
              "      <td>11170</td>\n",
              "      <td>6954</td>\n",
              "      <td>17877.15585</td>\n",
              "      <td>59</td>\n",
              "      <td>BAT2428731</td>\n",
              "      <td>16.731201</td>\n",
              "      <td>C</td>\n",
              "      <td>C3</td>\n",
              "      <td>MORTGAGE</td>\n",
              "      <td>...</td>\n",
              "      <td>0.107020</td>\n",
              "      <td>0.749971</td>\n",
              "      <td>0</td>\n",
              "      <td>INDIVIDUAL</td>\n",
              "      <td>39</td>\n",
              "      <td>0</td>\n",
              "      <td>40</td>\n",
              "      <td>9189</td>\n",
              "      <td>60214</td>\n",
              "      <td>0</td>\n",
              "    </tr>\n",
              "    <tr>\n",
              "      <th>4</th>\n",
              "      <td>14354669</td>\n",
              "      <td>16890</td>\n",
              "      <td>13226</td>\n",
              "      <td>13539.92667</td>\n",
              "      <td>59</td>\n",
              "      <td>BAT5341619</td>\n",
              "      <td>15.008300</td>\n",
              "      <td>C</td>\n",
              "      <td>D4</td>\n",
              "      <td>MORTGAGE</td>\n",
              "      <td>...</td>\n",
              "      <td>1294.818751</td>\n",
              "      <td>0.368953</td>\n",
              "      <td>0</td>\n",
              "      <td>INDIVIDUAL</td>\n",
              "      <td>18</td>\n",
              "      <td>0</td>\n",
              "      <td>430</td>\n",
              "      <td>126029</td>\n",
              "      <td>22579</td>\n",
              "      <td>0</td>\n",
              "    </tr>\n",
              "  </tbody>\n",
              "</table>\n",
              "<p>5 rows × 35 columns</p>\n",
              "</div>"
            ]
          },
          "metadata": {},
          "execution_count": 124
        }
      ]
    },
    {
      "cell_type": "code",
      "metadata": {
        "colab": {
          "base_uri": "https://localhost:8080/"
        },
        "id": "uNkF99rjItll",
        "outputId": "0ae92f0a-9c57-4b5b-d8db-db9c74c34613"
      },
      "source": [
        "train['Loan Status'].value_counts()"
      ],
      "execution_count": null,
      "outputs": [
        {
          "output_type": "execute_result",
          "data": {
            "text/plain": [
              "0    61222\n",
              "1     6241\n",
              "Name: Loan Status, dtype: int64"
            ]
          },
          "metadata": {},
          "execution_count": 125
        }
      ]
    },
    {
      "cell_type": "markdown",
      "metadata": {
        "id": "CpS1HwdQqUJ6"
      },
      "source": [
        "This dataset is an imbalanced dataset."
      ]
    },
    {
      "cell_type": "markdown",
      "metadata": {
        "id": "7amo3GDcYA8-"
      },
      "source": [
        "## Feature Engineering"
      ]
    },
    {
      "cell_type": "code",
      "source": [
        "# magic feature\n",
        "train['Initial List Status'].value_counts()"
      ],
      "metadata": {
        "colab": {
          "base_uri": "https://localhost:8080/"
        },
        "id": "EUkj0P0Llc5j",
        "outputId": "74c0a8c5-d4da-47a5-808e-973cbd213c53"
      },
      "execution_count": null,
      "outputs": [
        {
          "output_type": "execute_result",
          "data": {
            "text/plain": [
              "w    36299\n",
              "f    31164\n",
              "Name: Initial List Status, dtype: int64"
            ]
          },
          "metadata": {},
          "execution_count": 126
        }
      ]
    },
    {
      "cell_type": "code",
      "source": [
        "train['Verification Status'].value_counts()"
      ],
      "metadata": {
        "colab": {
          "base_uri": "https://localhost:8080/"
        },
        "id": "ZNGRbxxPl0uc",
        "outputId": "5926e855-e8c1-4c19-f196-f0171e7ae0aa"
      },
      "execution_count": null,
      "outputs": [
        {
          "output_type": "execute_result",
          "data": {
            "text/plain": [
              "Source Verified    33036\n",
              "Verified           18078\n",
              "Not Verified       16349\n",
              "Name: Verification Status, dtype: int64"
            ]
          },
          "metadata": {},
          "execution_count": 127
        }
      ]
    },
    {
      "cell_type": "code",
      "source": [
        "train['Employment Duration'].value_counts()"
      ],
      "metadata": {
        "colab": {
          "base_uri": "https://localhost:8080/"
        },
        "id": "CD7o8RZPl4xj",
        "outputId": "3b3d9cf9-936d-42ce-f7c1-63b2ab341e46"
      },
      "execution_count": null,
      "outputs": [
        {
          "output_type": "execute_result",
          "data": {
            "text/plain": [
              "MORTGAGE    36351\n",
              "RENT        24150\n",
              "OWN          6962\n",
              "Name: Employment Duration, dtype: int64"
            ]
          },
          "metadata": {},
          "execution_count": 128
        }
      ]
    },
    {
      "cell_type": "code",
      "source": [
        "train['Grade'].value_counts()"
      ],
      "metadata": {
        "colab": {
          "base_uri": "https://localhost:8080/"
        },
        "id": "Bep3AjfzmGOF",
        "outputId": "5abed702-7ffe-419f-b517-40cf5703b38d"
      },
      "execution_count": null,
      "outputs": [
        {
          "output_type": "execute_result",
          "data": {
            "text/plain": [
              "C    19085\n",
              "B    18742\n",
              "A    12055\n",
              "D     8259\n",
              "E     6446\n",
              "F     2246\n",
              "G      630\n",
              "Name: Grade, dtype: int64"
            ]
          },
          "metadata": {},
          "execution_count": 129
        }
      ]
    },
    {
      "cell_type": "code",
      "source": [
        "train= train.fillna(0)"
      ],
      "metadata": {
        "id": "0i7Sg9HZMOYT"
      },
      "execution_count": null,
      "outputs": []
    },
    {
      "cell_type": "code",
      "metadata": {
        "id": "RkNaS14fYE_E"
      },
      "source": [
        "# Basic Feature engg\n",
        "\n",
        "train['revolving bal/ revolving util']= train['Revolving Balance']/train['Revolving Utilities']\n",
        "\n",
        "\n",
        "# Complex feature engg\n",
        "train['total_debt'] = train['Loan Amount']+train['Funded Amount']\n",
        "train['Inv_approved_amt'] = train['Funded Amount'] - train['Funded Amount Investor']\n",
        "train['Total_revenue'] = train['Total Received Interest'] + train['Total Received Late Fee'] + train['Recoveries']+ train['Collection Recovery Fee']\n",
        "train['Ave_ac_bal']= train['Total Current Balance']/ train['Total Accounts']\n",
        "train['Ave_revolving bal'] = train['Total Revolving Credit Limit']/ train['Total Accounts']\n",
        "train['Usable credit limit'] = (train['Revolving Balance']+ train['Total Revolving Credit Limit'])/ train['Term']\n",
        "train['Credit_score'] = (0.35*train['Last week Pay']+ 0.30*train['Total Collection Amount']+ 0.15*train['Total Accounts']+ 0.10*train['Open Account']+ 0.10*train['Revolving Balance'])\n"
      ],
      "execution_count": null,
      "outputs": []
    },
    {
      "cell_type": "code",
      "source": [
        "# test dataset\n",
        "\n",
        "# Basic Feature engg\n",
        "\n",
        "test['revolving bal/ revolving util']= test['Revolving Balance']/test['Revolving Utilities']\n",
        "\n",
        "\n",
        "# Complex feature engg\n",
        "test['total_debt'] = test['Loan Amount']+test['Funded Amount']\n",
        "test['Inv_approved_amt'] = test['Funded Amount'] - test['Funded Amount Investor']\n",
        "test['Total_revenue'] = test['Total Received Interest'] + test['Total Received Late Fee'] + test['Recoveries']+ test['Collection Recovery Fee']\n",
        "test['Ave_ac_bal']= test['Total Current Balance']/ test['Total Accounts']\n",
        "test['Ave_revolving bal'] = test['Total Revolving Credit Limit']/ test['Total Accounts']\n",
        "test['Usable credit limit'] = (test['Revolving Balance']+ test['Total Revolving Credit Limit'])/ test['Term']\n",
        "test['Credit_score'] = (0.35*test['Last week Pay']+ 0.30*test['Total Collection Amount']+ 0.15*test['Total Accounts']+ 0.10*test['Open Account']+ 0.10*test['Revolving Balance'])\n",
        "\n"
      ],
      "metadata": {
        "id": "QPiN5qnU5ILQ"
      },
      "execution_count": null,
      "outputs": []
    },
    {
      "cell_type": "code",
      "source": [
        "print(train.shape)\n",
        "print(test.shape)"
      ],
      "metadata": {
        "colab": {
          "base_uri": "https://localhost:8080/"
        },
        "id": "EKfCYeqQ6eYQ",
        "outputId": "045c6111-a5bc-4f6b-884d-7f99d64847bb"
      },
      "execution_count": null,
      "outputs": [
        {
          "output_type": "stream",
          "name": "stdout",
          "text": [
            "(67463, 43)\n",
            "(28913, 43)\n"
          ]
        }
      ]
    },
    {
      "cell_type": "markdown",
      "metadata": {
        "id": "P2iHT4FoJto3"
      },
      "source": [
        "## EDA\n"
      ]
    },
    {
      "cell_type": "code",
      "metadata": {
        "id": "V6rMTPT7Ja-S"
      },
      "source": [
        "#pip install pandas-profiling"
      ],
      "execution_count": null,
      "outputs": []
    },
    {
      "cell_type": "code",
      "metadata": {
        "id": "37dhRCUzJwJd"
      },
      "source": [
        "#from pandas_profiling import ProfileReport\n",
        "#design_report = ProfileReport(train)\n",
        "#design_report.to_file(output_file='report.html')"
      ],
      "execution_count": null,
      "outputs": []
    },
    {
      "cell_type": "code",
      "metadata": {
        "id": "Rd-BMBb9LCwu",
        "colab": {
          "base_uri": "https://localhost:8080/"
        },
        "outputId": "23a4f961-9723-41f2-ff25-decfe456b109"
      },
      "source": [
        "train.describe().T.round()"
      ],
      "execution_count": null,
      "outputs": [
        {
          "output_type": "execute_result",
          "data": {
            "text/plain": [
              "                                 count        mean         std        min  \\\n",
              "ID                             67463.0  25627608.0  21091554.0  1297933.0   \n",
              "Loan Amount                    67463.0     16849.0      8368.0     1014.0   \n",
              "Funded Amount                  67463.0     15771.0      8151.0     1014.0   \n",
              "Funded Amount Investor         67463.0     14622.0      6785.0     1115.0   \n",
              "Term                           67463.0        58.0         3.0       36.0   \n",
              "Interest Rate                  67463.0        12.0         4.0        5.0   \n",
              "Home Ownership                 67463.0     80542.0     45029.0    14574.0   \n",
              "Debit to Income                67463.0        23.0         8.0        1.0   \n",
              "Delinquency - two years        67463.0         0.0         1.0        0.0   \n",
              "Inquires - six months          67463.0         0.0         0.0        0.0   \n",
              "Open Account                   67463.0        14.0         6.0        2.0   \n",
              "Public Record                  67463.0         0.0         0.0        0.0   \n",
              "Revolving Balance              67463.0      7699.0      7836.0        0.0   \n",
              "Revolving Utilities            67463.0        53.0        23.0        0.0   \n",
              "Total Accounts                 67463.0        19.0         8.0        4.0   \n",
              "Total Received Interest        67463.0      2069.0      2222.0        5.0   \n",
              "Total Received Late Fee        67463.0         1.0         5.0        0.0   \n",
              "Recoveries                     67463.0        60.0       357.0        0.0   \n",
              "Collection Recovery Fee        67463.0         1.0         3.0        0.0   \n",
              "Collection 12 months Medical   67463.0         0.0         0.0        0.0   \n",
              "Last week Pay                  67463.0        71.0        43.0        0.0   \n",
              "Accounts Delinquent            67463.0         0.0         0.0        0.0   \n",
              "Total Collection Amount        67463.0       146.0       744.0        1.0   \n",
              "Total Current Balance          67463.0    159574.0    139033.0      617.0   \n",
              "Total Revolving Credit Limit   67463.0     23123.0     20917.0     1000.0   \n",
              "Loan Status                    67463.0         0.0         0.0        0.0   \n",
              "revolving bal/ revolving util  67463.0       348.0      8558.0        0.0   \n",
              "total_debt                     67463.0     32620.0     11678.0     3252.0   \n",
              "Inv_approved_amt               67463.0      1149.0     10552.0   -33302.0   \n",
              "Total_revenue                  67463.0      2131.0      2250.0        7.0   \n",
              "Ave_ac_bal                     67463.0     11025.0     13254.0       29.0   \n",
              "Ave_revolving bal              67463.0      1582.0      1957.0       21.0   \n",
              "Usable credit limit            67463.0       533.0       394.0       19.0   \n",
              "Credit_score                   67463.0       843.0       816.0       12.0   \n",
              "\n",
              "                                     25%         50%         75%         max  \n",
              "ID                             6570288.0  17915646.0  42715208.0  72245779.0  \n",
              "Loan Amount                      10012.0     16073.0     22106.0     35000.0  \n",
              "Funded Amount                     9266.0     13042.0     21793.0     34999.0  \n",
              "Funded Amount Investor            9832.0     12794.0     17808.0     35000.0  \n",
              "Term                                58.0        59.0        59.0        59.0  \n",
              "Interest Rate                        9.0        11.0        14.0        27.0  \n",
              "Home Ownership                   51690.0     69336.0     94623.0    406562.0  \n",
              "Debit to Income                     17.0        23.0        30.0        40.0  \n",
              "Delinquency - two years              0.0         0.0         0.0         8.0  \n",
              "Inquires - six months                0.0         0.0         0.0         5.0  \n",
              "Open Account                        10.0        13.0        16.0        37.0  \n",
              "Public Record                        0.0         0.0         0.0         4.0  \n",
              "Revolving Balance                 2557.0      5516.0     10184.0    116933.0  \n",
              "Revolving Utilities                 39.0        54.0        69.0       101.0  \n",
              "Total Accounts                      13.0        18.0        23.0        72.0  \n",
              "Total Received Interest            571.0      1331.0      2657.0     14301.0  \n",
              "Total Received Late Fee              0.0         0.0         0.0        43.0  \n",
              "Recoveries                           2.0         3.0         5.0      4354.0  \n",
              "Collection Recovery Fee              0.0         1.0         1.0       167.0  \n",
              "Collection 12 months Medical         0.0         0.0         0.0         1.0  \n",
              "Last week Pay                       35.0        68.0       105.0       161.0  \n",
              "Accounts Delinquent                  0.0         0.0         0.0         0.0  \n",
              "Total Collection Amount             24.0        36.0        46.0     16421.0  \n",
              "Total Current Balance            50379.0    118369.0    228375.0   1177412.0  \n",
              "Total Revolving Credit Limit      8156.0     16733.0     32146.0    201169.0  \n",
              "Loan Status                          0.0         0.0         0.0         1.0  \n",
              "revolving bal/ revolving util       49.0       111.0       232.0   1990774.0  \n",
              "total_debt                       23930.0     31721.0     40581.0     69760.0  \n",
              "Inv_approved_amt                 -5324.0       418.0      8211.0     32619.0  \n",
              "Total_revenue                      598.0      1389.0      2752.0     15929.0  \n",
              "Ave_ac_bal                        2890.0      6931.0     14108.0    259448.0  \n",
              "Ave_revolving bal                  451.0       985.0      1966.0     49278.0  \n",
              "Usable credit limit                252.0       432.0       706.0      4394.0  \n",
              "Credit_score                       310.0       616.0      1098.0     11726.0  "
            ],
            "text/html": [
              "<div>\n",
              "<style scoped>\n",
              "    .dataframe tbody tr th:only-of-type {\n",
              "        vertical-align: middle;\n",
              "    }\n",
              "\n",
              "    .dataframe tbody tr th {\n",
              "        vertical-align: top;\n",
              "    }\n",
              "\n",
              "    .dataframe thead th {\n",
              "        text-align: right;\n",
              "    }\n",
              "</style>\n",
              "<table border=\"1\" class=\"dataframe\">\n",
              "  <thead>\n",
              "    <tr style=\"text-align: right;\">\n",
              "      <th></th>\n",
              "      <th>count</th>\n",
              "      <th>mean</th>\n",
              "      <th>std</th>\n",
              "      <th>min</th>\n",
              "      <th>25%</th>\n",
              "      <th>50%</th>\n",
              "      <th>75%</th>\n",
              "      <th>max</th>\n",
              "    </tr>\n",
              "  </thead>\n",
              "  <tbody>\n",
              "    <tr>\n",
              "      <th>ID</th>\n",
              "      <td>67463.0</td>\n",
              "      <td>25627608.0</td>\n",
              "      <td>21091554.0</td>\n",
              "      <td>1297933.0</td>\n",
              "      <td>6570288.0</td>\n",
              "      <td>17915646.0</td>\n",
              "      <td>42715208.0</td>\n",
              "      <td>72245779.0</td>\n",
              "    </tr>\n",
              "    <tr>\n",
              "      <th>Loan Amount</th>\n",
              "      <td>67463.0</td>\n",
              "      <td>16849.0</td>\n",
              "      <td>8368.0</td>\n",
              "      <td>1014.0</td>\n",
              "      <td>10012.0</td>\n",
              "      <td>16073.0</td>\n",
              "      <td>22106.0</td>\n",
              "      <td>35000.0</td>\n",
              "    </tr>\n",
              "    <tr>\n",
              "      <th>Funded Amount</th>\n",
              "      <td>67463.0</td>\n",
              "      <td>15771.0</td>\n",
              "      <td>8151.0</td>\n",
              "      <td>1014.0</td>\n",
              "      <td>9266.0</td>\n",
              "      <td>13042.0</td>\n",
              "      <td>21793.0</td>\n",
              "      <td>34999.0</td>\n",
              "    </tr>\n",
              "    <tr>\n",
              "      <th>Funded Amount Investor</th>\n",
              "      <td>67463.0</td>\n",
              "      <td>14622.0</td>\n",
              "      <td>6785.0</td>\n",
              "      <td>1115.0</td>\n",
              "      <td>9832.0</td>\n",
              "      <td>12794.0</td>\n",
              "      <td>17808.0</td>\n",
              "      <td>35000.0</td>\n",
              "    </tr>\n",
              "    <tr>\n",
              "      <th>Term</th>\n",
              "      <td>67463.0</td>\n",
              "      <td>58.0</td>\n",
              "      <td>3.0</td>\n",
              "      <td>36.0</td>\n",
              "      <td>58.0</td>\n",
              "      <td>59.0</td>\n",
              "      <td>59.0</td>\n",
              "      <td>59.0</td>\n",
              "    </tr>\n",
              "    <tr>\n",
              "      <th>Interest Rate</th>\n",
              "      <td>67463.0</td>\n",
              "      <td>12.0</td>\n",
              "      <td>4.0</td>\n",
              "      <td>5.0</td>\n",
              "      <td>9.0</td>\n",
              "      <td>11.0</td>\n",
              "      <td>14.0</td>\n",
              "      <td>27.0</td>\n",
              "    </tr>\n",
              "    <tr>\n",
              "      <th>Home Ownership</th>\n",
              "      <td>67463.0</td>\n",
              "      <td>80542.0</td>\n",
              "      <td>45029.0</td>\n",
              "      <td>14574.0</td>\n",
              "      <td>51690.0</td>\n",
              "      <td>69336.0</td>\n",
              "      <td>94623.0</td>\n",
              "      <td>406562.0</td>\n",
              "    </tr>\n",
              "    <tr>\n",
              "      <th>Debit to Income</th>\n",
              "      <td>67463.0</td>\n",
              "      <td>23.0</td>\n",
              "      <td>8.0</td>\n",
              "      <td>1.0</td>\n",
              "      <td>17.0</td>\n",
              "      <td>23.0</td>\n",
              "      <td>30.0</td>\n",
              "      <td>40.0</td>\n",
              "    </tr>\n",
              "    <tr>\n",
              "      <th>Delinquency - two years</th>\n",
              "      <td>67463.0</td>\n",
              "      <td>0.0</td>\n",
              "      <td>1.0</td>\n",
              "      <td>0.0</td>\n",
              "      <td>0.0</td>\n",
              "      <td>0.0</td>\n",
              "      <td>0.0</td>\n",
              "      <td>8.0</td>\n",
              "    </tr>\n",
              "    <tr>\n",
              "      <th>Inquires - six months</th>\n",
              "      <td>67463.0</td>\n",
              "      <td>0.0</td>\n",
              "      <td>0.0</td>\n",
              "      <td>0.0</td>\n",
              "      <td>0.0</td>\n",
              "      <td>0.0</td>\n",
              "      <td>0.0</td>\n",
              "      <td>5.0</td>\n",
              "    </tr>\n",
              "    <tr>\n",
              "      <th>Open Account</th>\n",
              "      <td>67463.0</td>\n",
              "      <td>14.0</td>\n",
              "      <td>6.0</td>\n",
              "      <td>2.0</td>\n",
              "      <td>10.0</td>\n",
              "      <td>13.0</td>\n",
              "      <td>16.0</td>\n",
              "      <td>37.0</td>\n",
              "    </tr>\n",
              "    <tr>\n",
              "      <th>Public Record</th>\n",
              "      <td>67463.0</td>\n",
              "      <td>0.0</td>\n",
              "      <td>0.0</td>\n",
              "      <td>0.0</td>\n",
              "      <td>0.0</td>\n",
              "      <td>0.0</td>\n",
              "      <td>0.0</td>\n",
              "      <td>4.0</td>\n",
              "    </tr>\n",
              "    <tr>\n",
              "      <th>Revolving Balance</th>\n",
              "      <td>67463.0</td>\n",
              "      <td>7699.0</td>\n",
              "      <td>7836.0</td>\n",
              "      <td>0.0</td>\n",
              "      <td>2557.0</td>\n",
              "      <td>5516.0</td>\n",
              "      <td>10184.0</td>\n",
              "      <td>116933.0</td>\n",
              "    </tr>\n",
              "    <tr>\n",
              "      <th>Revolving Utilities</th>\n",
              "      <td>67463.0</td>\n",
              "      <td>53.0</td>\n",
              "      <td>23.0</td>\n",
              "      <td>0.0</td>\n",
              "      <td>39.0</td>\n",
              "      <td>54.0</td>\n",
              "      <td>69.0</td>\n",
              "      <td>101.0</td>\n",
              "    </tr>\n",
              "    <tr>\n",
              "      <th>Total Accounts</th>\n",
              "      <td>67463.0</td>\n",
              "      <td>19.0</td>\n",
              "      <td>8.0</td>\n",
              "      <td>4.0</td>\n",
              "      <td>13.0</td>\n",
              "      <td>18.0</td>\n",
              "      <td>23.0</td>\n",
              "      <td>72.0</td>\n",
              "    </tr>\n",
              "    <tr>\n",
              "      <th>Total Received Interest</th>\n",
              "      <td>67463.0</td>\n",
              "      <td>2069.0</td>\n",
              "      <td>2222.0</td>\n",
              "      <td>5.0</td>\n",
              "      <td>571.0</td>\n",
              "      <td>1331.0</td>\n",
              "      <td>2657.0</td>\n",
              "      <td>14301.0</td>\n",
              "    </tr>\n",
              "    <tr>\n",
              "      <th>Total Received Late Fee</th>\n",
              "      <td>67463.0</td>\n",
              "      <td>1.0</td>\n",
              "      <td>5.0</td>\n",
              "      <td>0.0</td>\n",
              "      <td>0.0</td>\n",
              "      <td>0.0</td>\n",
              "      <td>0.0</td>\n",
              "      <td>43.0</td>\n",
              "    </tr>\n",
              "    <tr>\n",
              "      <th>Recoveries</th>\n",
              "      <td>67463.0</td>\n",
              "      <td>60.0</td>\n",
              "      <td>357.0</td>\n",
              "      <td>0.0</td>\n",
              "      <td>2.0</td>\n",
              "      <td>3.0</td>\n",
              "      <td>5.0</td>\n",
              "      <td>4354.0</td>\n",
              "    </tr>\n",
              "    <tr>\n",
              "      <th>Collection Recovery Fee</th>\n",
              "      <td>67463.0</td>\n",
              "      <td>1.0</td>\n",
              "      <td>3.0</td>\n",
              "      <td>0.0</td>\n",
              "      <td>0.0</td>\n",
              "      <td>1.0</td>\n",
              "      <td>1.0</td>\n",
              "      <td>167.0</td>\n",
              "    </tr>\n",
              "    <tr>\n",
              "      <th>Collection 12 months Medical</th>\n",
              "      <td>67463.0</td>\n",
              "      <td>0.0</td>\n",
              "      <td>0.0</td>\n",
              "      <td>0.0</td>\n",
              "      <td>0.0</td>\n",
              "      <td>0.0</td>\n",
              "      <td>0.0</td>\n",
              "      <td>1.0</td>\n",
              "    </tr>\n",
              "    <tr>\n",
              "      <th>Last week Pay</th>\n",
              "      <td>67463.0</td>\n",
              "      <td>71.0</td>\n",
              "      <td>43.0</td>\n",
              "      <td>0.0</td>\n",
              "      <td>35.0</td>\n",
              "      <td>68.0</td>\n",
              "      <td>105.0</td>\n",
              "      <td>161.0</td>\n",
              "    </tr>\n",
              "    <tr>\n",
              "      <th>Accounts Delinquent</th>\n",
              "      <td>67463.0</td>\n",
              "      <td>0.0</td>\n",
              "      <td>0.0</td>\n",
              "      <td>0.0</td>\n",
              "      <td>0.0</td>\n",
              "      <td>0.0</td>\n",
              "      <td>0.0</td>\n",
              "      <td>0.0</td>\n",
              "    </tr>\n",
              "    <tr>\n",
              "      <th>Total Collection Amount</th>\n",
              "      <td>67463.0</td>\n",
              "      <td>146.0</td>\n",
              "      <td>744.0</td>\n",
              "      <td>1.0</td>\n",
              "      <td>24.0</td>\n",
              "      <td>36.0</td>\n",
              "      <td>46.0</td>\n",
              "      <td>16421.0</td>\n",
              "    </tr>\n",
              "    <tr>\n",
              "      <th>Total Current Balance</th>\n",
              "      <td>67463.0</td>\n",
              "      <td>159574.0</td>\n",
              "      <td>139033.0</td>\n",
              "      <td>617.0</td>\n",
              "      <td>50379.0</td>\n",
              "      <td>118369.0</td>\n",
              "      <td>228375.0</td>\n",
              "      <td>1177412.0</td>\n",
              "    </tr>\n",
              "    <tr>\n",
              "      <th>Total Revolving Credit Limit</th>\n",
              "      <td>67463.0</td>\n",
              "      <td>23123.0</td>\n",
              "      <td>20917.0</td>\n",
              "      <td>1000.0</td>\n",
              "      <td>8156.0</td>\n",
              "      <td>16733.0</td>\n",
              "      <td>32146.0</td>\n",
              "      <td>201169.0</td>\n",
              "    </tr>\n",
              "    <tr>\n",
              "      <th>Loan Status</th>\n",
              "      <td>67463.0</td>\n",
              "      <td>0.0</td>\n",
              "      <td>0.0</td>\n",
              "      <td>0.0</td>\n",
              "      <td>0.0</td>\n",
              "      <td>0.0</td>\n",
              "      <td>0.0</td>\n",
              "      <td>1.0</td>\n",
              "    </tr>\n",
              "    <tr>\n",
              "      <th>revolving bal/ revolving util</th>\n",
              "      <td>67463.0</td>\n",
              "      <td>348.0</td>\n",
              "      <td>8558.0</td>\n",
              "      <td>0.0</td>\n",
              "      <td>49.0</td>\n",
              "      <td>111.0</td>\n",
              "      <td>232.0</td>\n",
              "      <td>1990774.0</td>\n",
              "    </tr>\n",
              "    <tr>\n",
              "      <th>total_debt</th>\n",
              "      <td>67463.0</td>\n",
              "      <td>32620.0</td>\n",
              "      <td>11678.0</td>\n",
              "      <td>3252.0</td>\n",
              "      <td>23930.0</td>\n",
              "      <td>31721.0</td>\n",
              "      <td>40581.0</td>\n",
              "      <td>69760.0</td>\n",
              "    </tr>\n",
              "    <tr>\n",
              "      <th>Inv_approved_amt</th>\n",
              "      <td>67463.0</td>\n",
              "      <td>1149.0</td>\n",
              "      <td>10552.0</td>\n",
              "      <td>-33302.0</td>\n",
              "      <td>-5324.0</td>\n",
              "      <td>418.0</td>\n",
              "      <td>8211.0</td>\n",
              "      <td>32619.0</td>\n",
              "    </tr>\n",
              "    <tr>\n",
              "      <th>Total_revenue</th>\n",
              "      <td>67463.0</td>\n",
              "      <td>2131.0</td>\n",
              "      <td>2250.0</td>\n",
              "      <td>7.0</td>\n",
              "      <td>598.0</td>\n",
              "      <td>1389.0</td>\n",
              "      <td>2752.0</td>\n",
              "      <td>15929.0</td>\n",
              "    </tr>\n",
              "    <tr>\n",
              "      <th>Ave_ac_bal</th>\n",
              "      <td>67463.0</td>\n",
              "      <td>11025.0</td>\n",
              "      <td>13254.0</td>\n",
              "      <td>29.0</td>\n",
              "      <td>2890.0</td>\n",
              "      <td>6931.0</td>\n",
              "      <td>14108.0</td>\n",
              "      <td>259448.0</td>\n",
              "    </tr>\n",
              "    <tr>\n",
              "      <th>Ave_revolving bal</th>\n",
              "      <td>67463.0</td>\n",
              "      <td>1582.0</td>\n",
              "      <td>1957.0</td>\n",
              "      <td>21.0</td>\n",
              "      <td>451.0</td>\n",
              "      <td>985.0</td>\n",
              "      <td>1966.0</td>\n",
              "      <td>49278.0</td>\n",
              "    </tr>\n",
              "    <tr>\n",
              "      <th>Usable credit limit</th>\n",
              "      <td>67463.0</td>\n",
              "      <td>533.0</td>\n",
              "      <td>394.0</td>\n",
              "      <td>19.0</td>\n",
              "      <td>252.0</td>\n",
              "      <td>432.0</td>\n",
              "      <td>706.0</td>\n",
              "      <td>4394.0</td>\n",
              "    </tr>\n",
              "    <tr>\n",
              "      <th>Credit_score</th>\n",
              "      <td>67463.0</td>\n",
              "      <td>843.0</td>\n",
              "      <td>816.0</td>\n",
              "      <td>12.0</td>\n",
              "      <td>310.0</td>\n",
              "      <td>616.0</td>\n",
              "      <td>1098.0</td>\n",
              "      <td>11726.0</td>\n",
              "    </tr>\n",
              "  </tbody>\n",
              "</table>\n",
              "</div>"
            ]
          },
          "metadata": {},
          "execution_count": 136
        }
      ]
    },
    {
      "cell_type": "code",
      "metadata": {
        "colab": {
          "base_uri": "https://localhost:8080/"
        },
        "id": "xjvdXBBVkZ2r",
        "outputId": "d479f364-ac46-4429-b67d-696989873b40"
      },
      "source": [
        "sns.color_palette(\"Set2\")\n",
        "plt.figure(figsize=(17,10))\n",
        "sns.heatmap(train.corr())"
      ],
      "execution_count": null,
      "outputs": [
        {
          "output_type": "execute_result",
          "data": {
            "text/plain": [
              "<AxesSubplot:>"
            ]
          },
          "metadata": {},
          "execution_count": 137
        },
        {
          "output_type": "display_data",
          "data": {
            "text/plain": [
              "<Figure size 1224x720 with 2 Axes>"
            ],
            "image/png": "[encoded data removed]"
          },
          "metadata": {
            "needs_background": "light"
          }
        }
      ]
    },
    {
      "cell_type": "code",
      "metadata": {
        "colab": {
          "base_uri": "https://localhost:8080/"
        },
        "id": "DjAVHqL7ke2v",
        "outputId": "91ffd07e-47f0-48fa-f6fd-47e7048b2e1d"
      },
      "source": [
        "sns.boxplot(x='Home Ownership', y='Employment Duration', data=train)"
      ],
      "execution_count": null,
      "outputs": [
        {
          "output_type": "execute_result",
          "data": {
            "text/plain": [
              "<AxesSubplot:xlabel='Home Ownership', ylabel='Employment Duration'>"
            ]
          },
          "metadata": {},
          "execution_count": 138
        },
        {
          "output_type": "display_data",
          "data": {
            "text/plain": [
              "<Figure size 432x288 with 1 Axes>"
            ],
            "image/png": "[encoded data removed]"
          },
          "metadata": {
            "needs_background": "light"
          }
        }
      ]
    },
    {
      "cell_type": "code",
      "source": [
        "train['Public Record'].value_counts()"
      ],
      "metadata": {
        "colab": {
          "base_uri": "https://localhost:8080/"
        },
        "id": "Pp93VOdHT9ye",
        "outputId": "ca9ed6b5-2947-4f04-f21c-8e6c8782ee01"
      },
      "execution_count": null,
      "outputs": [
        {
          "output_type": "execute_result",
          "data": {
            "text/plain": [
              "0    62871\n",
              "1     4133\n",
              "2      200\n",
              "4      184\n",
              "3       75\n",
              "Name: Public Record, dtype: int64"
            ]
          },
          "metadata": {},
          "execution_count": 139
        }
      ]
    },
    {
      "cell_type": "code",
      "source": [
        "train.groupby('Loan Status').mean().T.round(2)"
      ],
      "metadata": {
        "colab": {
          "base_uri": "https://localhost:8080/"
        },
        "id": "HFxZ59_FjGMj",
        "outputId": "5e4bfc03-c2af-4d62-eaf1-23d10fd72a8a"
      },
      "execution_count": null,
      "outputs": [
        {
          "output_type": "execute_result",
          "data": {
            "text/plain": [
              "Loan Status                              0            1\n",
              "ID                             25624430.71  25658773.35\n",
              "Loan Amount                       16860.85     16731.67\n",
              "Funded Amount                     15767.05     15805.42\n",
              "Funded Amount Investor            14622.00     14619.87\n",
              "Term                                 58.18        58.14\n",
              "Interest Rate                        11.84        11.88\n",
              "Home Ownership                    80488.08     81065.54\n",
              "Debit to Income                      23.31        23.22\n",
              "Delinquency - two years               0.32         0.35\n",
              "Inquires - six months                 0.15         0.15\n",
              "Open Account                         14.28        14.13\n",
              "Public Record                         0.08         0.09\n",
              "Revolving Balance                  7702.03      7673.00\n",
              "Revolving Utilities                  52.86        53.18\n",
              "Total Accounts                       18.63        18.63\n",
              "Total Received Interest            2067.80      2080.68\n",
              "Total Received Late Fee               1.13         1.30\n",
              "Recoveries                           59.77        58.96\n",
              "Collection Recovery Fee               1.13         1.08\n",
              "Collection 12 months Medical          0.02         0.02\n",
              "Last week Pay                        71.08        71.99\n",
              "Accounts Delinquent                   0.00         0.00\n",
              "Total Collection Amount             144.59       164.87\n",
              "Total Current Balance            159137.67    163853.53\n",
              "Total Revolving Credit Limit      23113.30     23218.24\n",
              "revolving bal/ revolving util       355.16       279.02\n",
              "total_debt                        32627.90     32537.10\n",
              "Inv_approved_amt                   1145.05      1185.56\n",
              "Total_revenue                      2129.82      2142.03\n",
              "Ave_ac_bal                        10971.87     11548.07\n",
              "Ave_revolving bal                  1577.56      1627.84\n",
              "Usable credit limit                 532.62       535.06\n",
              "Credit_score                        842.68       846.17"
            ],
            "text/html": [
              "<div>\n",
              "<style scoped>\n",
              "    .dataframe tbody tr th:only-of-type {\n",
              "        vertical-align: middle;\n",
              "    }\n",
              "\n",
              "    .dataframe tbody tr th {\n",
              "        vertical-align: top;\n",
              "    }\n",
              "\n",
              "    .dataframe thead th {\n",
              "        text-align: right;\n",
              "    }\n",
              "</style>\n",
              "<table border=\"1\" class=\"dataframe\">\n",
              "  <thead>\n",
              "    <tr style=\"text-align: right;\">\n",
              "      <th>Loan Status</th>\n",
              "      <th>0</th>\n",
              "      <th>1</th>\n",
              "    </tr>\n",
              "  </thead>\n",
              "  <tbody>\n",
              "    <tr>\n",
              "      <th>ID</th>\n",
              "      <td>25624430.71</td>\n",
              "      <td>25658773.35</td>\n",
              "    </tr>\n",
              "    <tr>\n",
              "      <th>Loan Amount</th>\n",
              "      <td>16860.85</td>\n",
              "      <td>16731.67</td>\n",
              "    </tr>\n",
              "    <tr>\n",
              "      <th>Funded Amount</th>\n",
              "      <td>15767.05</td>\n",
              "      <td>15805.42</td>\n",
              "    </tr>\n",
              "    <tr>\n",
              "      <th>Funded Amount Investor</th>\n",
              "      <td>14622.00</td>\n",
              "      <td>14619.87</td>\n",
              "    </tr>\n",
              "    <tr>\n",
              "      <th>Term</th>\n",
              "      <td>58.18</td>\n",
              "      <td>58.14</td>\n",
              "    </tr>\n",
              "    <tr>\n",
              "      <th>Interest Rate</th>\n",
              "      <td>11.84</td>\n",
              "      <td>11.88</td>\n",
              "    </tr>\n",
              "    <tr>\n",
              "      <th>Home Ownership</th>\n",
              "      <td>80488.08</td>\n",
              "      <td>81065.54</td>\n",
              "    </tr>\n",
              "    <tr>\n",
              "      <th>Debit to Income</th>\n",
              "      <td>23.31</td>\n",
              "      <td>23.22</td>\n",
              "    </tr>\n",
              "    <tr>\n",
              "      <th>Delinquency - two years</th>\n",
              "      <td>0.32</td>\n",
              "      <td>0.35</td>\n",
              "    </tr>\n",
              "    <tr>\n",
              "      <th>Inquires - six months</th>\n",
              "      <td>0.15</td>\n",
              "      <td>0.15</td>\n",
              "    </tr>\n",
              "    <tr>\n",
              "      <th>Open Account</th>\n",
              "      <td>14.28</td>\n",
              "      <td>14.13</td>\n",
              "    </tr>\n",
              "    <tr>\n",
              "      <th>Public Record</th>\n",
              "      <td>0.08</td>\n",
              "      <td>0.09</td>\n",
              "    </tr>\n",
              "    <tr>\n",
              "      <th>Revolving Balance</th>\n",
              "      <td>7702.03</td>\n",
              "      <td>7673.00</td>\n",
              "    </tr>\n",
              "    <tr>\n",
              "      <th>Revolving Utilities</th>\n",
              "      <td>52.86</td>\n",
              "      <td>53.18</td>\n",
              "    </tr>\n",
              "    <tr>\n",
              "      <th>Total Accounts</th>\n",
              "      <td>18.63</td>\n",
              "      <td>18.63</td>\n",
              "    </tr>\n",
              "    <tr>\n",
              "      <th>Total Received Interest</th>\n",
              "      <td>2067.80</td>\n",
              "      <td>2080.68</td>\n",
              "    </tr>\n",
              "    <tr>\n",
              "      <th>Total Received Late Fee</th>\n",
              "      <td>1.13</td>\n",
              "      <td>1.30</td>\n",
              "    </tr>\n",
              "    <tr>\n",
              "      <th>Recoveries</th>\n",
              "      <td>59.77</td>\n",
              "      <td>58.96</td>\n",
              "    </tr>\n",
              "    <tr>\n",
              "      <th>Collection Recovery Fee</th>\n",
              "      <td>1.13</td>\n",
              "      <td>1.08</td>\n",
              "    </tr>\n",
              "    <tr>\n",
              "      <th>Collection 12 months Medical</th>\n",
              "      <td>0.02</td>\n",
              "      <td>0.02</td>\n",
              "    </tr>\n",
              "    <tr>\n",
              "      <th>Last week Pay</th>\n",
              "      <td>71.08</td>\n",
              "      <td>71.99</td>\n",
              "    </tr>\n",
              "    <tr>\n",
              "      <th>Accounts Delinquent</th>\n",
              "      <td>0.00</td>\n",
              "      <td>0.00</td>\n",
              "    </tr>\n",
              "    <tr>\n",
              "      <th>Total Collection Amount</th>\n",
              "      <td>144.59</td>\n",
              "      <td>164.87</td>\n",
              "    </tr>\n",
              "    <tr>\n",
              "      <th>Total Current Balance</th>\n",
              "      <td>159137.67</td>\n",
              "      <td>163853.53</td>\n",
              "    </tr>\n",
              "    <tr>\n",
              "      <th>Total Revolving Credit Limit</th>\n",
              "      <td>23113.30</td>\n",
              "      <td>23218.24</td>\n",
              "    </tr>\n",
              "    <tr>\n",
              "      <th>revolving bal/ revolving util</th>\n",
              "      <td>355.16</td>\n",
              "      <td>279.02</td>\n",
              "    </tr>\n",
              "    <tr>\n",
              "      <th>total_debt</th>\n",
              "      <td>32627.90</td>\n",
              "      <td>32537.10</td>\n",
              "    </tr>\n",
              "    <tr>\n",
              "      <th>Inv_approved_amt</th>\n",
              "      <td>1145.05</td>\n",
              "      <td>1185.56</td>\n",
              "    </tr>\n",
              "    <tr>\n",
              "      <th>Total_revenue</th>\n",
              "      <td>2129.82</td>\n",
              "      <td>2142.03</td>\n",
              "    </tr>\n",
              "    <tr>\n",
              "      <th>Ave_ac_bal</th>\n",
              "      <td>10971.87</td>\n",
              "      <td>11548.07</td>\n",
              "    </tr>\n",
              "    <tr>\n",
              "      <th>Ave_revolving bal</th>\n",
              "      <td>1577.56</td>\n",
              "      <td>1627.84</td>\n",
              "    </tr>\n",
              "    <tr>\n",
              "      <th>Usable credit limit</th>\n",
              "      <td>532.62</td>\n",
              "      <td>535.06</td>\n",
              "    </tr>\n",
              "    <tr>\n",
              "      <th>Credit_score</th>\n",
              "      <td>842.68</td>\n",
              "      <td>846.17</td>\n",
              "    </tr>\n",
              "  </tbody>\n",
              "</table>\n",
              "</div>"
            ]
          },
          "metadata": {},
          "execution_count": 140
        }
      ]
    },
    {
      "cell_type": "markdown",
      "metadata": {
        "id": "m3hjSOpishoZ"
      },
      "source": [
        "## Data preprocessing"
      ]
    },
    {
      "cell_type": "code",
      "source": [
        "# select numeric columns\n",
        "df_numeric = train.select_dtypes(include=[np.number])\n",
        "numeric_cols = df_numeric.columns.values\n",
        "print(numeric_cols)"
      ],
      "metadata": {
        "colab": {
          "base_uri": "https://localhost:8080/"
        },
        "id": "d-8iAElc9pI7",
        "outputId": "f4888bb0-42da-423d-d531-4414f3811039"
      },
      "execution_count": null,
      "outputs": [
        {
          "output_type": "stream",
          "name": "stdout",
          "text": [
            "['ID' 'Loan Amount' 'Funded Amount' 'Funded Amount Investor' 'Term'\n",
            " 'Interest Rate' 'Home Ownership' 'Debit to Income'\n",
            " 'Delinquency - two years' 'Inquires - six months' 'Open Account'\n",
            " 'Public Record' 'Revolving Balance' 'Revolving Utilities'\n",
            " 'Total Accounts' 'Total Received Interest' 'Total Received Late Fee'\n",
            " 'Recoveries' 'Collection Recovery Fee' 'Collection 12 months Medical'\n",
            " 'Last week Pay' 'Accounts Delinquent' 'Total Collection Amount'\n",
            " 'Total Current Balance' 'Total Revolving Credit Limit' 'Loan Status'\n",
            " 'revolving bal/ revolving util' 'total_debt' 'Inv_approved_amt'\n",
            " 'Total_revenue' 'Ave_ac_bal' 'Ave_revolving bal' 'Usable credit limit'\n",
            " 'Credit_score']\n"
          ]
        }
      ]
    },
    {
      "cell_type": "code",
      "source": [
        "# select non numeric columns\n",
        "df_non_numeric = train.select_dtypes(exclude=[np.number])\n",
        "non_numeric_cols = df_non_numeric.columns.values\n",
        "print(non_numeric_cols)"
      ],
      "metadata": {
        "colab": {
          "base_uri": "https://localhost:8080/"
        },
        "id": "elaw_Zwu9qDr",
        "outputId": "3f2c2461-813f-46ec-ddf7-4092349675d5"
      },
      "execution_count": null,
      "outputs": [
        {
          "output_type": "stream",
          "name": "stdout",
          "text": [
            "['Batch Enrolled' 'Grade' 'Sub Grade' 'Employment Duration'\n",
            " 'Verification Status' 'Payment Plan' 'Loan Title' 'Initial List Status'\n",
            " 'Application Type']\n"
          ]
        }
      ]
    },
    {
      "cell_type": "code",
      "metadata": {
        "id": "YXCRew7llS2d"
      },
      "source": [
        "train = train.drop(columns= ['Accounts Delinquent', 'Batch Enrolled'], axis=1)\n",
        "test = test.drop(columns= ['Accounts Delinquent', 'Batch Enrolled'], axis=1)"
      ],
      "execution_count": null,
      "outputs": []
    },
    {
      "cell_type": "code",
      "metadata": {
        "id": "LDFxH_4elH6D",
        "colab": {
          "base_uri": "https://localhost:8080/"
        },
        "outputId": "fd51bc26-f660-4187-cc0e-2ac28ea3887c"
      },
      "source": [
        "train.shape"
      ],
      "execution_count": null,
      "outputs": [
        {
          "output_type": "execute_result",
          "data": {
            "text/plain": [
              "(67463, 41)"
            ]
          },
          "metadata": {},
          "execution_count": 144
        }
      ]
    },
    {
      "cell_type": "code",
      "source": [
        "test.shape"
      ],
      "metadata": {
        "colab": {
          "base_uri": "https://localhost:8080/"
        },
        "id": "vGkGwXe-6syY",
        "outputId": "594e37a7-8024-4ff2-f86e-98bbf4d50511"
      },
      "execution_count": null,
      "outputs": [
        {
          "output_type": "execute_result",
          "data": {
            "text/plain": [
              "(28913, 41)"
            ]
          },
          "metadata": {},
          "execution_count": 145
        }
      ]
    },
    {
      "cell_type": "code",
      "metadata": {
        "id": "o1AeVVJiaUWJ"
      },
      "source": [
        "train = train.drop(columns= ['Application Type', 'Payment Plan', \n",
        "                             'Sub Grade', 'Loan Title'], axis=1)\n",
        "test = test.drop(columns= ['Application Type', 'Payment Plan', \n",
        "                             'Sub Grade', 'Loan Title'], axis=1)"
      ],
      "execution_count": null,
      "outputs": []
    },
    {
      "cell_type": "code",
      "metadata": {
        "id": "ftVME-QyIlHj"
      },
      "source": [
        "df= train\n",
        "encoder = LabelEncoder()\n",
        "df['Grade'] = encoder.fit_transform(df['Grade'])\n",
        "df['Employment Duration'] = encoder.fit_transform(df['Employment Duration'])\n",
        "df['Verification Status'] = encoder.fit_transform(df['Verification Status'])\n",
        "df['Initial List Status'] = encoder.fit_transform(df['Initial List Status'])\n",
        "df['Collection 12 months Medical'] =encoder.fit_transform(df['Collection 12 months Medical'])"
      ],
      "execution_count": null,
      "outputs": []
    },
    {
      "cell_type": "code",
      "source": [
        "df1 = test\n",
        "df1['Grade'] = encoder.fit_transform(df1['Grade'])\n",
        "df1['Employment Duration'] = encoder.fit_transform(df1['Employment Duration'])\n",
        "df1['Verification Status'] = encoder.fit_transform(df1['Verification Status'])\n",
        "df1['Initial List Status'] = encoder.fit_transform(df1['Initial List Status'])\n",
        "df1['Collection 12 months Medical'] =encoder.fit_transform(df1['Collection 12 months Medical'])"
      ],
      "metadata": {
        "id": "COYNL-pu5xUd"
      },
      "execution_count": null,
      "outputs": []
    },
    {
      "cell_type": "code",
      "source": [
        "df= df.fillna(0)\n",
        "df1.replace([np.inf, -np.inf], np.nan, inplace=True)\n",
        "df1=df1.fillna(0)"
      ],
      "metadata": {
        "id": "jS96jYNGd0km"
      },
      "execution_count": null,
      "outputs": []
    },
    {
      "cell_type": "code",
      "metadata": {
        "colab": {
          "base_uri": "https://localhost:8080/"
        },
        "id": "Z_XrfN7tO2JR",
        "outputId": "41a4034e-b9ac-42e3-f5da-16207daab5f3"
      },
      "source": [
        "df.shape"
      ],
      "execution_count": null,
      "outputs": [
        {
          "output_type": "execute_result",
          "data": {
            "text/plain": [
              "(67463, 37)"
            ]
          },
          "metadata": {},
          "execution_count": 150
        }
      ]
    },
    {
      "cell_type": "code",
      "source": [
        "df1.shape"
      ],
      "metadata": {
        "colab": {
          "base_uri": "https://localhost:8080/"
        },
        "id": "_TirB5WJ5705",
        "outputId": "478492b0-184c-41e0-e54a-a098d90acdda"
      },
      "execution_count": null,
      "outputs": [
        {
          "output_type": "execute_result",
          "data": {
            "text/plain": [
              "(28913, 37)"
            ]
          },
          "metadata": {},
          "execution_count": 151
        }
      ]
    },
    {
      "cell_type": "markdown",
      "metadata": {
        "id": "FI25j_fUo12J"
      },
      "source": [
        "Let's check the impact of the new features."
      ]
    },
    {
      "cell_type": "code",
      "metadata": {
        "colab": {
          "base_uri": "https://localhost:8080/",
          "height": 750
        },
        "id": "8gsEglDnnYPK",
        "outputId": "d17477b8-222d-4fe3-ec2d-bba2ab379ce7"
      },
      "source": [
        "plt.figure(figsize=(15,10))\n",
        "sns.heatmap(df.corr())"
      ],
      "execution_count": null,
      "outputs": [
        {
          "output_type": "execute_result",
          "data": {
            "text/plain": [
              "<AxesSubplot:>"
            ]
          },
          "metadata": {},
          "execution_count": 152
        },
        {
          "output_type": "display_data",
          "data": {
            "text/plain": [
              "<Figure size 1080x720 with 2 Axes>"
            ],
            "image/png": "[encoded data removed]"
          },
          "metadata": {
            "needs_background": "light"
          }
        }
      ]
    },
    {
      "cell_type": "markdown",
      "metadata": {
        "id": "kIfdRwLisf1Y"
      },
      "source": [
        "As we can see that we have 234 columns now after one hot encoding the categorical values. This many features may slow down the algorithm speeds and therefore we will delete redundant features and use dimensionality reduction techniques to decrease the number of dimensions too."
      ]
    },
    {
      "cell_type": "code",
      "metadata": {
        "id": "8YycbUUewsyf"
      },
      "source": [
        "# scaling the features\n",
        "X = df.drop(columns=['ID', 'Loan Status'], axis=1)\n",
        "y = df['Loan Status']"
      ],
      "execution_count": null,
      "outputs": []
    },
    {
      "cell_type": "code",
      "source": [
        "X = StandardScaler().fit_transform(X)"
      ],
      "metadata": {
        "id": "bGDJ12wrMnAL"
      },
      "execution_count": null,
      "outputs": []
    },
    {
      "cell_type": "code",
      "source": [
        "X1 = df1.drop(columns=['ID', 'Loan Status'], axis=1)\n",
        "X1 = StandardScaler().fit_transform(X1)"
      ],
      "metadata": {
        "id": "cIY3KPsc62fX"
      },
      "execution_count": null,
      "outputs": []
    },
    {
      "cell_type": "code",
      "metadata": {
        "colab": {
          "base_uri": "https://localhost:8080/"
        },
        "id": "6vZg-QKYQRTj",
        "outputId": "dfa70d45-d0d8-4d72-a982-5f9f9bd4ea14"
      },
      "source": [
        "X.shape"
      ],
      "execution_count": null,
      "outputs": [
        {
          "output_type": "execute_result",
          "data": {
            "text/plain": [
              "(67463, 35)"
            ]
          },
          "metadata": {},
          "execution_count": 155
        }
      ]
    },
    {
      "cell_type": "code",
      "source": [
        "X1.shape"
      ],
      "metadata": {
        "colab": {
          "base_uri": "https://localhost:8080/"
        },
        "id": "yMvxG-m2DoZt",
        "outputId": "f4466ffd-e998-4733-b534-be58a2a6d22d"
      },
      "execution_count": null,
      "outputs": [
        {
          "output_type": "execute_result",
          "data": {
            "text/plain": [
              "(28913, 35)"
            ]
          },
          "metadata": {},
          "execution_count": 156
        }
      ]
    },
    {
      "cell_type": "code",
      "source": [
        ""
      ],
      "metadata": {
        "id": "t9kF3aLxMlzp"
      },
      "execution_count": null,
      "outputs": []
    },
    {
      "cell_type": "markdown",
      "source": [
        "##Modelling and Evaluation"
      ],
      "metadata": {
        "id": "5Sruqt86qSU-"
      }
    },
    {
      "cell_type": "code",
      "source": [
        "X_train, X_test, y_train, y_test = train_test_split(X, y,stratify=y, train_size= 0.2, random_state= 42)"
      ],
      "metadata": {
        "id": "1q4JMf3aqVtL"
      },
      "execution_count": null,
      "outputs": []
    },
    {
      "cell_type": "code",
      "source": [
        "y_test = LabelBinarizer().fit_transform(y_test)"
      ],
      "metadata": {
        "id": "vTweVr8wZKQy"
      },
      "execution_count": null,
      "outputs": []
    },
    {
      "cell_type": "code",
      "source": [
        "# Baseline model\n",
        "catboost1 = CatBoostClassifier(iterations=2000)\n",
        "catboost1.fit(X_train, y_train)"
      ],
      "metadata": {
        "id": "2gQkOrXeqh--"
      },
      "execution_count": null,
      "outputs": []
    },
    {
      "cell_type": "code",
      "source": [
        "y_pred1 = catboost1.predict_proba(X_test)"
      ],
      "metadata": {
        "id": "UeAYnAdRKJ2n"
      },
      "execution_count": null,
      "outputs": []
    },
    {
      "cell_type": "code",
      "source": [
        "def logloss(y_true, y_pred, eps=1e-15):\n",
        "    y_pred = np.clip(y_pred, eps, 1 - eps)\n",
        "    return -(y_true * np.log(y_pred)).sum(axis=1).mean()"
      ],
      "metadata": {
        "id": "L6RItRySqyLt"
      },
      "execution_count": null,
      "outputs": []
    },
    {
      "cell_type": "code",
      "source": [
        "log_loss(y_test, y_pred1)"
      ],
      "metadata": {
        "colab": {
          "base_uri": "https://localhost:8080/"
        },
        "id": "bOoBIFEybict",
        "outputId": "bf7d8753-9931-487d-982f-db8b19427b96"
      },
      "execution_count": null,
      "outputs": [
        {
          "output_type": "execute_result",
          "data": {
            "text/plain": [
              "0.3152149459587014"
            ]
          },
          "metadata": {},
          "execution_count": 256
        }
      ]
    },
    {
      "cell_type": "code",
      "source": [
        "# with changing the weights\n",
        "catboost2 = CatBoostClassifier(class_weights= (9.8,1), iterations= 2000)\n",
        "catboost2.fit(X_train, y_train)\n",
        "y_pred2 = catboost2.predict_proba(X_test)"
      ],
      "metadata": {
        "id": "ozdToBamrY1x"
      },
      "execution_count": null,
      "outputs": []
    },
    {
      "cell_type": "code",
      "source": [
        "log_loss(y_test, y_pred2)"
      ],
      "metadata": {
        "colab": {
          "base_uri": "https://localhost:8080/"
        },
        "id": "D1fdsyJIb5ye",
        "outputId": "cbaae630-d1d8-4564-9e02-8b31cc849848"
      },
      "execution_count": null,
      "outputs": [
        {
          "output_type": "execute_result",
          "data": {
            "text/plain": [
              "0.43059705206756504"
            ]
          },
          "metadata": {},
          "execution_count": 191
        }
      ]
    },
    {
      "cell_type": "code",
      "source": [
        "catboost2.get_all_params()"
      ],
      "metadata": {
        "id": "OwAv5OpS3gYt"
      },
      "execution_count": null,
      "outputs": []
    },
    {
      "cell_type": "markdown",
      "metadata": {
        "id": "E63QJ8kD8WyZ"
      },
      "source": [
        "# Imblearn"
      ]
    },
    {
      "cell_type": "markdown",
      "source": [
        "As the the dataset is hugely imbalanced we need to use sampling techniques to balance the labels."
      ],
      "metadata": {
        "id": "EoMEvrAtrJzm"
      }
    },
    {
      "cell_type": "markdown",
      "metadata": {
        "id": "XSfYJDP2M7dn"
      },
      "source": [
        "It's clear from the above exercises tha the dataset is hugely imbalanced and we need to do something to make it more balanced. So, we will try with imblearn and see what happens. Let's start with SMOTE and then follow it with ADAYSN."
      ]
    },
    {
      "cell_type": "code",
      "metadata": {
        "id": "Xjl087ciEHua"
      },
      "source": [
        "from collections import Counter"
      ],
      "execution_count": null,
      "outputs": []
    },
    {
      "cell_type": "code",
      "metadata": {
        "id": "T-cGVkDgCrFc"
      },
      "source": [
        "from imblearn.over_sampling import SMOTE, ADASYN\n",
        "from imblearn.combine import SMOTEENN"
      ],
      "execution_count": null,
      "outputs": []
    },
    {
      "cell_type": "markdown",
      "metadata": {
        "id": "yHb1bRunE_ps"
      },
      "source": [
        "Using SMOTEEN"
      ]
    },
    {
      "cell_type": "code",
      "metadata": {
        "id": "5_EMCtxzE_Pb"
      },
      "source": [
        "sme = SMOTEENN(random_state=42)\n",
        "X_res, y_res = sme.fit_resample(X, y)"
      ],
      "execution_count": null,
      "outputs": []
    },
    {
      "cell_type": "code",
      "metadata": {
        "id": "n6rToskscOx3"
      },
      "source": [
        "X_train, X_test, y_train, y_test = train_test_split(X_res, y_res, train_size= 0.2, random_state= 42)\n",
        "catboost1.fit(X_train, y_train)\n",
        "ypred = cat_boost.predict_proba(X_test)"
      ],
      "execution_count": null,
      "outputs": []
    },
    {
      "cell_type": "code",
      "source": [
        "y_test = LabelBinarizer().fit_transform(y_test)"
      ],
      "metadata": {
        "id": "WjoG7qGji1qx"
      },
      "execution_count": null,
      "outputs": []
    },
    {
      "cell_type": "code",
      "metadata": {
        "colab": {
          "base_uri": "https://localhost:8080/"
        },
        "id": "6ETvnmg-cj7K",
        "outputId": "8c66689a-e11c-4fc5-f893-700692f31397"
      },
      "source": [
        "log_loss(y_test, ypred)"
      ],
      "execution_count": null,
      "outputs": [
        {
          "output_type": "execute_result",
          "data": {
            "text/plain": [
              "0.21940878474537365"
            ]
          },
          "metadata": {},
          "execution_count": 259
        }
      ]
    },
    {
      "cell_type": "code",
      "metadata": {
        "id": "FJIlX-XO3z_Z"
      },
      "source": [
        "# feauture importances\n",
        "plt.figure(figsize=(10,10))\n",
        "fimpo = pd.Series(catboost1.feature_importances_, index = X_train.columns).plot(kind = 'barh')"
      ],
      "execution_count": null,
      "outputs": []
    },
    {
      "cell_type": "markdown",
      "metadata": {
        "id": "m-VZVvGZX_Ou"
      },
      "source": [
        "SMOTETomek"
      ]
    },
    {
      "cell_type": "code",
      "metadata": {
        "colab": {
          "base_uri": "https://localhost:8080/"
        },
        "id": "t25HstWIX-uc",
        "outputId": "597a911c-ac5a-46e4-8d8a-0e1e42cd4723"
      },
      "source": [
        "from imblearn.combine import SMOTETomek\n",
        "smt = SMOTETomek(random_state=42)\n",
        "X_res, y_res = smt.fit_resample(X, y)\n",
        "print('Resampled dataset shape %s' % Counter(y_res))"
      ],
      "execution_count": null,
      "outputs": [
        {
          "output_type": "stream",
          "name": "stdout",
          "text": [
            "Resampled dataset shape Counter({0: 61220, 1: 61220})\n"
          ]
        }
      ]
    },
    {
      "cell_type": "code",
      "metadata": {
        "id": "z4wTSR1hGU9T"
      },
      "source": [
        "cat_boost = CatBoostClassifier(iterations=2000)"
      ],
      "execution_count": null,
      "outputs": []
    },
    {
      "cell_type": "code",
      "metadata": {
        "id": "D_ImicVcApD5"
      },
      "source": [
        "X_train, X_test, y_train, y_test = train_test_split(X_res, y_res, train_size= 0.2, random_state= 42)"
      ],
      "execution_count": null,
      "outputs": []
    },
    {
      "cell_type": "code",
      "source": [
        "y_test = LabelBinarizer().fit_transform(y_test)"
      ],
      "metadata": {
        "id": "I-VUtT65qbvv"
      },
      "execution_count": null,
      "outputs": []
    },
    {
      "cell_type": "code",
      "metadata": {
        "id": "oeHXwTPobXzm"
      },
      "source": [
        "catboost3 = CatBoostClassifier(iterations=2000, learning_rate= 0.1, l2_leaf_reg= 2.5, \n",
        "                               random_seed= 0, bootstrap_type='Bernoulli', subsample=0.7,\n",
        "                               random_strength=0.5, depth= 10)\n",
        "catboost3.fit(X_train, y_train)\n",
        "y_pred = catboost1.predict_proba(X_test)"
      ],
      "execution_count": null,
      "outputs": []
    },
    {
      "cell_type": "code",
      "source": [
        "print('All_shapes',\n",
        "      \"X_train:\", X_train.shape,\n",
        "      'y_train:', y_train.shape,\n",
        "      'X_test:', X_test.shape,\n",
        "      'y_test:', y_test.shape,\n",
        "      'y_pred:', y_pred.shape)"
      ],
      "metadata": {
        "colab": {
          "base_uri": "https://localhost:8080/"
        },
        "id": "Ci1Txv4YsoW-",
        "outputId": "6232ff85-7457-44bf-c0e9-98cfea357a21"
      },
      "execution_count": null,
      "outputs": [
        {
          "output_type": "stream",
          "name": "stdout",
          "text": [
            "All_shapes X_train: (24488, 35) y_train: (24488,) X_test: (97952, 35) y_test: (97952, 1) y_pred: (97952, 2)\n"
          ]
        }
      ]
    },
    {
      "cell_type": "code",
      "metadata": {
        "colab": {
          "base_uri": "https://localhost:8080/"
        },
        "id": "naV7iNN2beT9",
        "outputId": "8bd8df94-d375-4f83-accb-94fa50b54175"
      },
      "source": [
        "log_loss(y_test, y_pred)"
      ],
      "execution_count": null,
      "outputs": [
        {
          "output_type": "execute_result",
          "data": {
            "text/plain": [
              "0.1992535903765612"
            ]
          },
          "metadata": {},
          "execution_count": 262
        }
      ]
    },
    {
      "cell_type": "code",
      "source": [
        "catboost1.get_all_params()"
      ],
      "metadata": {
        "id": "PKV2YsmZ-aY4"
      },
      "execution_count": null,
      "outputs": []
    },
    {
      "cell_type": "code",
      "metadata": {
        "id": "3-eNDglHWy8A"
      },
      "source": [
        "from sklearn.model_selection import learning_curve"
      ],
      "execution_count": null,
      "outputs": []
    },
    {
      "cell_type": "markdown",
      "metadata": {
        "id": "uktz8guZb26a"
      },
      "source": [
        "Using smotetomek we get a logloss of 1.912 and with removed features we get 2.03053."
      ]
    },
    {
      "cell_type": "code",
      "source": [
        "np.any(np.isinf(X1))"
      ],
      "metadata": {
        "colab": {
          "base_uri": "https://localhost:8080/"
        },
        "id": "SXdd-9vodod_",
        "outputId": "b0baa957-696c-440a-e59b-5101ecc95462"
      },
      "execution_count": null,
      "outputs": [
        {
          "output_type": "execute_result",
          "data": {
            "text/plain": [
              "False"
            ]
          },
          "metadata": {},
          "execution_count": 99
        }
      ]
    },
    {
      "cell_type": "code",
      "source": [
        "X1_scaled = StandardScaler().fit_transform(X1)"
      ],
      "metadata": {
        "id": "U9yNeCFBcQUb"
      },
      "execution_count": null,
      "outputs": []
    },
    {
      "cell_type": "code",
      "source": [
        "#testing on test dataset\n",
        "predictions = catboost3.predict_proba(X1)\n",
        "submission_file = pd.read_csv(r\"D:\\DATASETS\\DELOITTE\\Participants_Data_PLD\\submission.csv\")\n",
        "submission_file['Loan Status']= predictions\n",
        "submission_file['Loan Status'].value_counts()"
      ],
      "metadata": {
        "colab": {
          "base_uri": "https://localhost:8080/"
        },
        "id": "Jz0i3G2lLruu",
        "outputId": "e068485a-c6ac-4c28-bde4-233b45e7ec7a"
      },
      "execution_count": null,
      "outputs": [
        {
          "output_type": "execute_result",
          "data": {
            "text/plain": [
              "0.005176    1\n",
              "0.000366    1\n",
              "0.001116    1\n",
              "0.000365    1\n",
              "0.000281    1\n",
              "           ..\n",
              "0.018646    1\n",
              "0.000017    1\n",
              "0.002226    1\n",
              "0.000152    1\n",
              "0.000317    1\n",
              "Name: Loan Status, Length: 28913, dtype: int64"
            ]
          },
          "metadata": {},
          "execution_count": 263
        }
      ]
    },
    {
      "cell_type": "code",
      "source": [
        "submission_file.to_csv('my_file.csv', index= False)"
      ],
      "metadata": {
        "id": "75Ir9WtmWSuz"
      },
      "execution_count": null,
      "outputs": []
    },
    {
      "cell_type": "markdown",
      "source": [
        "#Other Models"
      ],
      "metadata": {
        "id": "lCltzoTpxQVA"
      }
    },
    {
      "cell_type": "code",
      "source": [
        "from imblearn.ensemble import EasyEnsembleClassifier\n",
        "eec = EasyEnsembleClassifier()\n",
        "eec.fit(X_train, y_train)\n",
        "y_pred = eec.predict_proba(X_test)"
      ],
      "metadata": {
        "id": "ttaSsxiwapxs"
      },
      "execution_count": null,
      "outputs": []
    },
    {
      "cell_type": "code",
      "source": [
        "print(log_loss(y_test, y_pred))"
      ],
      "metadata": {
        "colab": {
          "base_uri": "https://localhost:8080/"
        },
        "id": "UmmSho2LbDjp",
        "outputId": "87dbe2e8-efbd-4e24-9ceb-37711354634d"
      },
      "execution_count": null,
      "outputs": [
        {
          "output_type": "stream",
          "name": "stdout",
          "text": [
            "0.6769598504401101\n"
          ]
        }
      ]
    },
    {
      "cell_type": "code",
      "source": [
        "from sklearn.tree import DecisionTreeClassifier\n",
        "tree = DecisionTreeClassifier()\n",
        "tree.fit(X_train, y_train)\n",
        "y_pred = tree.predict_proba(X_test)\n",
        "print(log_loss(y_test, y_pred))"
      ],
      "metadata": {
        "colab": {
          "base_uri": "https://localhost:8080/"
        },
        "id": "j5tkigcYbfFi",
        "outputId": "907bed8b-4a12-46c6-d66c-0c91a963df64"
      },
      "execution_count": null,
      "outputs": [
        {
          "output_type": "stream",
          "name": "stdout",
          "text": [
            "5.952748520692606\n"
          ]
        }
      ]
    },
    {
      "cell_type": "code",
      "source": [
        "from sklearn.ensemble import RandomForestClassifier\n",
        "forest = RandomForestClassifier()\n",
        "forest.fit(X_train, y_train)\n",
        "ypred = forest.predict_proba(X_test)\n",
        "print(log_loss(y_test,ypred))"
      ],
      "metadata": {
        "colab": {
          "base_uri": "https://localhost:8080/"
        },
        "id": "uYluxXlwjP7z",
        "outputId": "fbb47b2a-9aae-4f5b-f0e2-b22ccca9c1bf"
      },
      "execution_count": null,
      "outputs": [
        {
          "output_type": "stream",
          "name": "stdout",
          "text": [
            "0.33823424206891\n"
          ]
        }
      ]
    },
    {
      "cell_type": "code",
      "source": [
        "from sklearn.ensemble import GradientBoostingClassifier\n",
        "gb = GradientBoostingClassifier()\n",
        "gb.fit(X_train, y_train)\n",
        "ypred = gb.predict(X_test)\n",
        "print(log_loss(y_test,ypred))"
      ],
      "metadata": {
        "colab": {
          "base_uri": "https://localhost:8080/"
        },
        "id": "KJChmJN1jr6P",
        "outputId": "4a1b9698-e458-40ab-cdf7-743373a03c87"
      },
      "execution_count": null,
      "outputs": [
        {
          "output_type": "stream",
          "name": "stdout",
          "text": [
            "              precision    recall  f1-score   support\n",
            "\n",
            "           0       1.00      0.89      0.94     54636\n",
            "           1       0.88      1.00      0.94     42902\n",
            "\n",
            "    accuracy                           0.94     97538\n",
            "   macro avg       0.94      0.95      0.94     97538\n",
            "weighted avg       0.95      0.94      0.94     97538\n",
            "\n",
            "2.0651929053107656\n"
          ]
        }
      ]
    },
    {
      "cell_type": "code",
      "source": [
        "from sklearn.ensemble import StackingClassifier\n",
        "estimators = ['forest', forest, 'EEC', eec,\n",
        "              'GB', gb]\n",
        "stacking = StackingClassifier(estimators = estimators, final_estimator= catboost1)"
      ],
      "metadata": {
        "id": "UjLLwAgOf2ny"
      },
      "execution_count": null,
      "outputs": []
    },
    {
      "cell_type": "code",
      "source": [
        ""
      ],
      "metadata": {
        "id": "WcDTMLHzlqH8"
      },
      "execution_count": null,
      "outputs": []
    }
  ]
}