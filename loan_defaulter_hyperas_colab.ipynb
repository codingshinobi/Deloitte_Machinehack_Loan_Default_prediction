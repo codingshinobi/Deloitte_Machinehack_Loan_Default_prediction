{
  "nbformat": 4,
  "nbformat_minor": 0,
  "metadata": {
    "colab": {
      "name": "loan_defaulter_hyperas_colab.ipynb",
      "provenance": [],
      "collapsed_sections": [],
      "include_colab_link": true
    },
    "kernelspec": {
      "name": "python3",
      "display_name": "Python 3"
    },
    "language_info": {
      "name": "python"
    }
  },
  "cells": [
    {
      "cell_type": "markdown",
      "metadata": {
        "id": "view-in-github",
        "colab_type": "text"
      },
      "source": [
        "<a href=\"https://colab.research.google.com/github/codingshinobi/Deloitte_Machinehack_Loan_Default_prediction/blob/main/loan_defaulter_hyperas_colab.ipynb\" target=\"_parent\"><img src=\"https://colab.research.google.com/assets/colab-badge.svg\" alt=\"Open In Colab\"/></a>"
      ]
    },
    {
      "cell_type": "code",
      "source": [
        "! pip install hyperas\n",
        "! pip install hyperopt"
      ],
      "metadata": {
        "id": "MYXnLY5IGrkV"
      },
      "execution_count": null,
      "outputs": []
    },
    {
      "cell_type": "code",
      "source": [
        "!pip install tensorflow"
      ],
      "metadata": {
        "id": "l7SI5r2MYvMk"
      },
      "execution_count": null,
      "outputs": []
    },
    {
      "cell_type": "code",
      "execution_count": null,
      "metadata": {
        "id": "xONvGe0AFy3a"
      },
      "outputs": [],
      "source": [
        "# Standard Imports\n",
        "import numpy as np\n",
        "import pandas as pd\n",
        "\n",
        "from sklearn.model_selection import train_test_split\n",
        "from sklearn.preprocessing import StandardScaler, LabelEncoder\n",
        "from sklearn.metrics import log_loss\n",
        "\n",
        "import tensorflow as tf\n",
        "from tensorflow import keras\n",
        "from keras import Sequential\n",
        "from keras.layers import Input, Dense, Dropout, Activation\n",
        "\n",
        "from hyperopt import tpe, STATUS_OK, Trials\n",
        "from hyperas import optim\n",
        "from hyperas.distributions import choice, uniform"
      ]
    },
    {
      "cell_type": "markdown",
      "source": [
        "## Let's create a function which processes the data in such a way that that the data is directly fed into the model"
      ],
      "metadata": {
        "id": "L--XG136GuIt"
      }
    },
    {
      "cell_type": "code",
      "source": [
        "def data():  \n",
        "  global test\n",
        "  # Importing data\n",
        "  train = pd.read_csv(r\"D:\\DATASETS\\DELOITTE\\Participants_Data_PLD\\train.csv\")\n",
        "  test = pd.read_csv(r\"D:\\DATASETS\\DELOITTE\\Participants_Data_PLD\\test.csv\")\n",
        "\n",
        "  # Dropping unnecessary columns in both test and training sets\n",
        "  train = train.drop(\"ID\", axis=1)\n",
        "  test = test.drop([\"Loan Status\", \"ID\"], axis=1)\n",
        "\n",
        "  # Let's split the data into features and target variables\n",
        "  X = train.drop(\"Loan Status\", axis=1)\n",
        "  y = train[\"Loan Status\"]\n",
        "\n",
        "  # Splitting the data into training and validation sets\n",
        "  X_train, X_valid, y_train, y_valid = train_test_split(X, y, test_size=0.2, random_state=42)\n",
        "\n",
        "  # Converting non- numerical columns into numerica Columns\n",
        "  for label, content in X_train.items():\n",
        "    if not pd.api.types.is_numeric_dtype(content):\n",
        "      encoder = LabelEncoder()\n",
        "      X_train[label] = encoder.fit_transform(X_train[label])\n",
        "      X_valid[label] = encoder.transform(X_valid[label])\n",
        "      test[label] = encoder.transform(test[label])\n",
        "\n",
        "  # Now we scale the data\n",
        "  scaler = StandardScaler()\n",
        "  X_train = scaler.fit_transform(X_train)\n",
        "  X_valid = scaler.transform(X_valid)\n",
        "  test = scaler.transform(test)\n",
        "\n",
        "  return X_train, y_train, X_valid, y_valid\n",
        "\n",
        "# Calling our function\n",
        "X_train, y_train, X_valid, y_valid = data()"
      ],
      "metadata": {
        "id": "ynDKI7kiH_WS",
        "colab": {
          "base_uri": "https://localhost:8080/"
        },
        "outputId": "7fe8747f-cbe7-4d0d-b734-3a40ad846e70"
      },
      "execution_count": null,
      "outputs": [
        {
          "output_type": "stream",
          "name": "stderr",
          "text": [
            "<ipython-input-8-fd6fe00dc778>:22: SettingWithCopyWarning: \n",
            "A value is trying to be set on a copy of a slice from a DataFrame.\n",
            "Try using .loc[row_indexer,col_indexer] = value instead\n",
            "\n",
            "See the caveats in the documentation: https://pandas.pydata.org/pandas-docs/stable/user_guide/indexing.html#returning-a-view-versus-a-copy\n",
            "  X_train[label] = encoder.fit_transform(X_train[label])\n",
            "<ipython-input-8-fd6fe00dc778>:23: SettingWithCopyWarning: \n",
            "A value is trying to be set on a copy of a slice from a DataFrame.\n",
            "Try using .loc[row_indexer,col_indexer] = value instead\n",
            "\n",
            "See the caveats in the documentation: https://pandas.pydata.org/pandas-docs/stable/user_guide/indexing.html#returning-a-view-versus-a-copy\n",
            "  X_valid[label] = encoder.transform(X_valid[label])\n"
          ]
        }
      ]
    },
    {
      "cell_type": "markdown",
      "source": [
        "## Let's create our model"
      ],
      "metadata": {
        "id": "kA2mFjn5KZiU"
      }
    },
    {
      "cell_type": "code",
      "source": [
        "def model():\n",
        "  # Set random seed\n",
        "  tf.random.set_seed(42)\n",
        "\n",
        "  # Create a model\n",
        "  model = Sequential()\n",
        "  model.add(Input(shape=X_train[0].shape))\n",
        "  model.add(Dense({{choice([20, 30, 40])}}))\n",
        "  model.add(Activation(\"relu\"))\n",
        "  model.add(Dropout({{uniform(0, 1)}}))\n",
        "  model.add(Dense({{choice([10, 20, 30])}}))\n",
        "  model.add(Activation(\"relu\"))\n",
        "  model.add(Dropout({{uniform(0, 1)}}))\n",
        "\n",
        "  # Let's add another layer according to choice\n",
        "  if {{choice([\"a\", \"b\"])}} == \"b\":\n",
        "    model.add(Dense(5, activation=\"relu\"))\n",
        "    model.add(Dropout({{uniform(0, 1)}}))\n",
        "\n",
        "  # Let's add the final layer\n",
        "  model.add(Dense(1))\n",
        "  model.add(Activation({{choice([\"sigmoid\", \"softmax\"])}}))\n",
        "\n",
        "  # let's compile the model\n",
        "  model.compile(loss=\"binary_crossentropy\",\n",
        "                optimizer=tf.keras.optimizers.Adam(learning_rate={{choice([0.1, 0.001, 0.01, 3e-4])}}),\n",
        "                metrics=[\"accuracy\"])\n",
        "  \n",
        "  # Fit the model\n",
        "  model.fit(X_train, y_train,\n",
        "            validation_data=(X_valid, y_valid),\n",
        "            epochs=100,\n",
        "            callbacks=[tf.keras.callbacks.EarlyStopping(patience=10)], verbose=0)\n",
        "  \n",
        "  # Evaluate our model\n",
        "  loss, acc = model.evaluate(X_valid, y_valid, verbose=0)\n",
        "  print(\"Validation accuracy :\", acc)\n",
        "\n",
        "  return {\"loss\" : -acc, \"model\" : model, 'status' : STATUS_OK}"
      ],
      "metadata": {
        "id": "iTmVNOCmKo7w"
      },
      "execution_count": null,
      "outputs": []
    },
    {
      "cell_type": "code",
      "source": [
        "# Now let's optimize our model\n",
        "best_run, best_model = optim.minimize(data=data,\n",
        "                                      model=model,\n",
        "                                      max_evals=10,\n",
        "                                      algo=tpe.suggest,\n",
        "                                      trials=Trials())"
      ],
      "metadata": {
        "id": "4pVYroBzOrvb"
      },
      "execution_count": null,
      "outputs": []
    },
    {
      "cell_type": "code",
      "source": [
        "log_loss(y_valid, best_model.predict(X_valid))"
      ],
      "metadata": {
        "colab": {
          "base_uri": "https://localhost:8080/",
          "height": 165
        },
        "id": "WGT1T3XwRhfF",
        "outputId": "cc1bacc0-e84f-4554-c259-d674a267a26a"
      },
      "execution_count": null,
      "outputs": [
        {
          "output_type": "error",
          "ename": "NameError",
          "evalue": "ignored",
          "traceback": [
            "\u001b[1;31m---------------------------------------------------------------------------\u001b[0m",
            "\u001b[1;31mNameError\u001b[0m                                 Traceback (most recent call last)",
            "\u001b[1;32m<ipython-input-18-1fe470550a44>\u001b[0m in \u001b[0;36m<module>\u001b[1;34m\u001b[0m\n\u001b[1;32m----> 1\u001b[1;33m \u001b[0mlog_loss\u001b[0m\u001b[1;33m(\u001b[0m\u001b[0my_valid\u001b[0m\u001b[1;33m,\u001b[0m \u001b[0mbest_model\u001b[0m\u001b[1;33m.\u001b[0m\u001b[0mpredict\u001b[0m\u001b[1;33m(\u001b[0m\u001b[0mX_valid\u001b[0m\u001b[1;33m)\u001b[0m\u001b[1;33m)\u001b[0m\u001b[1;33m\u001b[0m\u001b[1;33m\u001b[0m\u001b[0m\n\u001b[0m",
            "\u001b[1;31mNameError\u001b[0m: name 'best_model' is not defined"
          ]
        }
      ]
    },
    {
      "cell_type": "code",
      "source": [
        "best_run"
      ],
      "metadata": {
        "id": "k39Qd5COdRvD"
      },
      "execution_count": null,
      "outputs": []
    },
    {
      "cell_type": "code",
      "source": [
        "# Final model\n",
        "\n",
        "# Create a model\n",
        "final = Sequential([\n",
        "  Input(shape=X_train[0].shape),\n",
        "  Dense(100, activation=\"relu\"),\n",
        "  Dropout(0.6108763092812357),\n",
        "  Dense(50, activation=\"relu\"),\n",
        "  Dropout(0.7371698374615214),\n",
        "  Dense(25, activation=\"relu\"),\n",
        "  Dropout(0.21280043312755825),\n",
        "  Dense(1, activation=\"sigmoid\")\n",
        "])\n",
        "\n",
        "# Compile the model\n",
        "final.compile(loss=\"binary_crossentropy\",\n",
        "              optimizer=tf.keras.optimizers.Adam(learning_rate=3e-4),\n",
        "              metrics=[\"accuracy\"])\n",
        "\n",
        "#Fit the model\n",
        "history =   final.fit(X_train, y_train, epochs=100,\n",
        "            validation_data=(X_valid, y_valid),\n",
        "            callbacks=[tf.keras.callbacks.EarlyStopping(patience=10)])"
      ],
      "metadata": {
        "id": "jDB-bvmIdhbv"
      },
      "execution_count": null,
      "outputs": []
    },
    {
      "cell_type": "code",
      "source": [
        "log_loss(y_valid, final.predict(X_valid))"
      ],
      "metadata": {
        "colab": {
          "base_uri": "https://localhost:8080/"
        },
        "id": "3C8ot92QhVh_",
        "outputId": "7d503d1c-e133-46e2-ea29-0bc2c7c24b28"
      },
      "execution_count": null,
      "outputs": [
        {
          "output_type": "execute_result",
          "data": {
            "text/plain": [
              "0.303732815514517"
            ]
          },
          "metadata": {},
          "execution_count": 21
        }
      ]
    },
    {
      "cell_type": "code",
      "source": [
        "predictions=final.predict(test).flatten()\n",
        "submissions = pd.DataFrame()\n",
        "predictions"
      ],
      "metadata": {
        "colab": {
          "base_uri": "https://localhost:8080/"
        },
        "id": "UacOcDIVZhZa",
        "outputId": "ab200248-f2a4-4134-abd9-fe7c1fde0abc"
      },
      "execution_count": null,
      "outputs": [
        {
          "output_type": "execute_result",
          "data": {
            "text/plain": [
              "array([0.10211161, 0.09748694, 0.10211161, ..., 0.10009122, 0.10211161,\n",
              "       0.10188353], dtype=float32)"
            ]
          },
          "metadata": {},
          "execution_count": 20
        }
      ]
    },
    {
      "cell_type": "code",
      "source": [
        "submissions[\"Loan Status\"] = predictions\n",
        "submissions.to_csv(\"predictions.csv\", index=False)"
      ],
      "metadata": {
        "id": "ONbHJoJjcouC"
      },
      "execution_count": null,
      "outputs": []
    }
  ]
}